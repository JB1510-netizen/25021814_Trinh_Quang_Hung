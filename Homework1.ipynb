{
 "cells": [
  {
   "cell_type": "markdown",
   "id": "2964e440-3608-4ec3-8a86-9681d480431f",
   "metadata": {},
   "source": [
    "<h1>bài 1</h1>"
   ]
  },
  {
   "cell_type": "code",
   "execution_count": 4,
   "id": "7b7b78b5-f5de-4780-b6e5-d1abb84dcf8e",
   "metadata": {},
   "outputs": [
    {
     "name": "stdin",
     "output_type": "stream",
     "text": [
      " 3\n"
     ]
    },
    {
     "name": "stdout",
     "output_type": "stream",
     "text": [
      "Số gấp đôi của n: 6\n"
     ]
    }
   ],
   "source": [
    "n = int(input())\n",
    "print(\"Số gấp đôi của n:\", n*2)"
   ]
  },
  {
   "cell_type": "markdown",
   "id": "2e1042e7-5737-4bbc-a492-e3602ee588fc",
   "metadata": {},
   "source": [
    "<h1>Bài 2</h1>"
   ]
  },
  {
   "cell_type": "code",
   "execution_count": 14,
   "id": "1c45ae46-12d1-4468-a23c-c3a46f87b98d",
   "metadata": {},
   "outputs": [
    {
     "name": "stdin",
     "output_type": "stream",
     "text": [
      " 2.3\n",
      " 4.8\n"
     ]
    },
    {
     "name": "stdout",
     "output_type": "stream",
     "text": [
      "Diện tích phần trồng cây là: 6.89\n"
     ]
    }
   ],
   "source": [
    "a = float(input())\n",
    "b = float(input())\n",
    "print(f'Diện tích phần trồng cây là: {a*b-(a/2)**2*3.14:.2f}')"
   ]
  },
  {
   "cell_type": "markdown",
   "id": "3f43e3c5-7464-48df-aeef-a1db66b2136b",
   "metadata": {},
   "source": [
    "<h1>Bài 3</h1>"
   ]
  },
  {
   "cell_type": "code",
   "execution_count": 2,
   "id": "5967e280-f83f-4d3d-8409-b59134206c88",
   "metadata": {},
   "outputs": [
    {
     "name": "stdin",
     "output_type": "stream",
     "text": [
      "Nhập vào một ký tự:  H\n"
     ]
    },
    {
     "name": "stdout",
     "output_type": "stream",
     "text": [
      "Chữ thường tương ứng là: h\n"
     ]
    }
   ],
   "source": [
    "c = input(\"Nhập vào một ký tự: \")\n",
    "if c.isupper():\n",
    "    print(\"Chữ thường tương ứng là:\", c.lower())\n",
    "else:\n",
    "    print(\"Chữ hoa tương ứng là:\", c.upper())\n"
   ]
  },
  {
   "cell_type": "markdown",
   "id": "5bb1685d-7505-4d8c-82ef-052237e7e4c6",
   "metadata": {},
   "source": [
    "<h1>Bài 4</h1>"
   ]
  },
  {
   "cell_type": "code",
   "execution_count": 4,
   "id": "0f5af582-bf68-4c77-8bf1-c0d78e1c7607",
   "metadata": {},
   "outputs": [
    {
     "name": "stdin",
     "output_type": "stream",
     "text": [
      "Nhập vào một kí tự:  H\n"
     ]
    },
    {
     "name": "stdout",
     "output_type": "stream",
     "text": [
      "H là kí tự alphabet\n"
     ]
    }
   ],
   "source": [
    "c = input(\"Nhập vào một kí tự: \")\n",
    "if c.isalpha():\n",
    "    print(f\"{c} là kí tự alphabet\")\n",
    "else:\n",
    "    print(f\"{c} không phải là kí tự alphabet\")"
   ]
  },
  {
   "cell_type": "markdown",
   "id": "cfbc3ead-1027-4285-a1c3-26e2e47640bd",
   "metadata": {},
   "source": [
    "<h1>Bài 5</h1>"
   ]
  },
  {
   "cell_type": "code",
   "execution_count": 5,
   "id": "6ae5adca-dd59-4cbd-9b8c-10de1a1a3c54",
   "metadata": {},
   "outputs": [
    {
     "name": "stdin",
     "output_type": "stream",
     "text": [
      "Nhập vào một chữ cái hoa (A-Z):  H\n"
     ]
    },
    {
     "name": "stdout",
     "output_type": "stream",
     "text": [
      "Chữ cái thường liền trước h là: g\n"
     ]
    }
   ],
   "source": [
    "c = input(\"Nhập vào một chữ cái hoa (A-Z): \")\n",
    "if c == \"A\":\n",
    "    print(\"Không có chữ cái thường nào đứng trước 'a'\")\n",
    "else:\n",
    "    c_thuong = c.lower()\n",
    "    truoc = chr(ord(c_thuong) - 1)\n",
    "    print(f\"Chữ cái thường liền trước {c_thuong} là: {truoc}\")"
   ]
  },
  {
   "cell_type": "markdown",
   "id": "cb487912-85df-4a49-98dd-918af47ee32b",
   "metadata": {},
   "source": [
    "<h1>Bài 6</h1>"
   ]
  },
  {
   "cell_type": "code",
   "execution_count": 6,
   "id": "0bb9f528-1901-4f8b-995e-98581964234b",
   "metadata": {},
   "outputs": [
    {
     "name": "stdin",
     "output_type": "stream",
     "text": [
      "Nhập 3 cạnh a, b, c (cách nhau bằng khoảng trắng):  3.6 5.2 7.1\n"
     ]
    },
    {
     "name": "stdout",
     "output_type": "stream",
     "text": [
      "Diện tích tam giác là: 9.0\n"
     ]
    }
   ],
   "source": [
    "import math\n",
    "a, b, c = map(float, input(\"Nhập 3 cạnh a, b, c (cách nhau bằng khoảng trắng): \").split())\n",
    "if a + b > c and a + c > b and b + c > a:\n",
    "    p = (a + b + c) / 2\n",
    "    S = math.sqrt(p * (p - a) * (p - b) * (p - c))\n",
    "    print(\"Diện tích tam giác là:\", format(S, \".1f\"))\n",
    "else:\n",
    "    print(\"Khong phai 3 canh cua tam giac\")\n"
   ]
  },
  {
   "cell_type": "markdown",
   "id": "b91cd7b1-18cc-4f45-9d20-b0e1d290d1b6",
   "metadata": {},
   "source": [
    "<h1>Bài 7</h1>"
   ]
  },
  {
   "cell_type": "code",
   "execution_count": 1,
   "id": "f0749c9e-c846-402f-832a-7fc0690cfde7",
   "metadata": {},
   "outputs": [
    {
     "name": "stdin",
     "output_type": "stream",
     "text": [
      "Nhập một chuỗi chữ thường có độ dài >= 20:  qihjgohsnwgohsofgashf\n"
     ]
    },
    {
     "name": "stdout",
     "output_type": "stream",
     "text": [
      "Ký tự thứ 5 là: g\n",
      "Ký tự thứ 9 là: n\n"
     ]
    }
   ],
   "source": [
    "s = input(\"Nhập một chuỗi chữ thường có độ dài >= 20: \")\n",
    "\n",
    "if len(s) >= 20:\n",
    "    print(\"Ký tự thứ 5 là:\", s[4])\n",
    "    print(\"Ký tự thứ 9 là:\", s[8])\n",
    "else:\n",
    "    print(\"Chuỗi quá ngắn, phải có ít nhất 20 ký tự!\")\n"
   ]
  },
  {
   "cell_type": "markdown",
   "id": "f5f8d807-80d0-4835-ad69-1257cb54d9ba",
   "metadata": {},
   "source": [
    "<h1>Bài 8</h1>"
   ]
  },
  {
   "cell_type": "code",
   "execution_count": 6,
   "id": "346b0187-cc46-4cac-ac2c-41aa393d6fd1",
   "metadata": {},
   "outputs": [
    {
     "name": "stdin",
     "output_type": "stream",
     "text": [
      "Ten chu ho:  Pham Xuan Toai\n",
      "Chỉ số tháng trước:  453\n",
      "Chỉ số tháng nay:  654\n"
     ]
    },
    {
     "name": "stdout",
     "output_type": "stream",
     "text": [
      "478113.84\n"
     ]
    }
   ],
   "source": [
    "ten_chu_ho = input(\"Ten chu ho: \")\n",
    "cs_thang_truoc = int(input(\"Chỉ số tháng trước: \"))\n",
    "cs_thang_nay = int(input(\"Chỉ số tháng nay: \"))\n",
    "so_KW = cs_thang_nay - cs_thang_truoc\n",
    "total_money = 0\n",
    "if so_KW > 400:\n",
    "    total_money += (so_KW - 400) * 3460\n",
    "    so_KW = 400\n",
    "\n",
    "if so_KW > 300:\n",
    "    total_money += (so_KW - 300) * 3350\n",
    "    so_KW = 300\n",
    "\n",
    "if so_KW > 200:\n",
    "    total_money += (so_KW - 200) * 2998\n",
    "    so_KW = 200\n",
    "\n",
    "if so_KW > 100:\n",
    "    total_money += (so_KW - 100) * 2380\n",
    "    so_KW = 100\n",
    "\n",
    "if so_KW > 50:\n",
    "    total_money += (so_KW - 50) * 2050\n",
    "    so_KW = 50\n",
    "\n",
    "total_money += so_KW * 1984\n",
    "total_money = total_money * 108 / 100\n",
    "print(total_money)"
   ]
  },
  {
   "cell_type": "code",
   "execution_count": null,
   "id": "4a31af09-114a-4980-b2da-7adb67e9bbc4",
   "metadata": {},
   "outputs": [],
   "source": []
  }
 ],
 "metadata": {
  "kernelspec": {
   "display_name": "Python 3 (ipykernel)",
   "language": "python",
   "name": "python3"
  },
  "language_info": {
   "codemirror_mode": {
    "name": "ipython",
    "version": 3
   },
   "file_extension": ".py",
   "mimetype": "text/x-python",
   "name": "python",
   "nbconvert_exporter": "python",
   "pygments_lexer": "ipython3",
   "version": "3.13.7"
  }
 },
 "nbformat": 4,
 "nbformat_minor": 5
}
