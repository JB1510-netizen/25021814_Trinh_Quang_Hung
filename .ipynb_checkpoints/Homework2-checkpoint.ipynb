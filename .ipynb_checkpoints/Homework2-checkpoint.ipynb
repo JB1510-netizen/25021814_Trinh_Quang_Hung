{
 "cells": [
  {
   "cell_type": "markdown",
   "id": "cee58892-72fd-492b-8573-1c196e56e897",
   "metadata": {},
   "source": [
    "<h1>Bài 1</h1>"
   ]
  },
  {
   "cell_type": "code",
   "execution_count": 2,
   "id": "415e0dee-dc77-4ca4-9d91-bde33a1d28b0",
   "metadata": {},
   "outputs": [
    {
     "name": "stdin",
     "output_type": "stream",
     "text": [
      "Hai cạnh của hình chữ nhật:  3.4 7.6\n"
     ]
    },
    {
     "name": "stdout",
     "output_type": "stream",
     "text": [
      "Diện tích hình chữ nhật là:  25.84\n",
      "Chu vi hình chữ nhật là:  22.0\n"
     ]
    }
   ],
   "source": [
    "# Nhập vào 2 cạnh của một hình chữ nhật. In ra màn hình diện tích và chu vi của nó. \n",
    "a, b = map(float, input(\"Hai cạnh của hình chữ nhật: \").split())\n",
    "print(\"Diện tích hình chữ nhật là: \", a*b)\n",
    "print(\"Chu vi hình chữ nhật là: \", (a+b)*2)"
   ]
  },
  {
   "cell_type": "markdown",
   "id": "4fa6eb38-150d-4299-a03e-4807b313fc61",
   "metadata": {},
   "source": [
    "<h1>Bài 2</h1>"
   ]
  },
  {
   "cell_type": "code",
   "execution_count": 8,
   "id": "a292b5a6-67ce-49d6-86fc-916a7dc21d77",
   "metadata": {},
   "outputs": [
    {
     "name": "stdin",
     "output_type": "stream",
     "text": [
      "Nhập bán kính của hình tròn:  3.6\n"
     ]
    },
    {
     "name": "stdout",
     "output_type": "stream",
     "text": [
      "Diện tích của hình tròn là:  40.72 Chu vi hình tròn là:  22.62\n"
     ]
    }
   ],
   "source": [
    "# Nhập vào bán kính của hình tròn. In ra màn hình diện tích và chu vi của nó.\n",
    "import math\n",
    "pi = math.pi\n",
    "r = float(input(\"Nhập bán kính của hình tròn: \"))\n",
    "print(\"Diện tích của hình tròn là: \", round(r**2*pi,2), \"Chu vi hình tròn là: \", round(2*r*pi,2)) "
   ]
  },
  {
   "cell_type": "code",
   "execution_count": null,
   "id": "681e1074-9bca-4b36-849f-5a644616a64c",
   "metadata": {},
   "outputs": [],
   "source": []
  }
 ],
 "metadata": {
  "kernelspec": {
   "display_name": "Python 3 (ipykernel)",
   "language": "python",
   "name": "python3"
  },
  "language_info": {
   "codemirror_mode": {
    "name": "ipython",
    "version": 3
   },
   "file_extension": ".py",
   "mimetype": "text/x-python",
   "name": "python",
   "nbconvert_exporter": "python",
   "pygments_lexer": "ipython3",
   "version": "3.13.7"
  }
 },
 "nbformat": 4,
 "nbformat_minor": 5
}
