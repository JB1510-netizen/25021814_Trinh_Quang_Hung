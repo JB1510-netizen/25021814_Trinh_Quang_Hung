{
 "cells": [
  {
   "cell_type": "code",
   "execution_count": 1,
   "id": "165a73bf-2e38-4905-b2e7-21d73f0d58b1",
   "metadata": {},
   "outputs": [
    {
     "name": "stdout",
     "output_type": "stream",
     "text": [
      "2\n"
     ]
    }
   ],
   "source": [
    "#W1A1\n",
    "a = 7\n",
    "b = 5\n",
    "c = a - b\n",
    "print(c)"
   ]
  },
  {
   "cell_type": "code",
   "execution_count": 2,
   "id": "996d37f6-433d-4011-a22c-dd424ade9f90",
   "metadata": {},
   "outputs": [
    {
     "name": "stdout",
     "output_type": "stream",
     "text": [
      "Thành Phố:  Hà Nội -Năm:  2025\n"
     ]
    }
   ],
   "source": [
    "#W1A2\n",
    "city = \"Hà Nội\"\n",
    "year = 2025\n",
    "print(\"Thành Phố: \", city, \"-Năm: \", year)"
   ]
  },
  {
   "cell_type": "code",
   "execution_count": null,
   "id": "84cb236d-fdb4-4437-a562-af87b1ac5606",
   "metadata": {},
   "outputs": [],
   "source": [
    "#W1A3\n",
    "n = 4\n",
    "t = 0\n",
    "for i in range(1, n+1):\n",
    "    t +=i\n",
    "print(t)"
   ]
  },
  {
   "cell_type": "code",
   "execution_count": 3,
   "id": "5a0187bc-b3cc-4911-8a34-26c1bf4fb507",
   "metadata": {},
   "outputs": [
    {
     "name": "stdout",
     "output_type": "stream",
     "text": [
      "1 là số lẻ\n",
      "2 là số chẵn\n",
      "3 là số lẻ\n",
      "4 là số chẵn\n"
     ]
    }
   ],
   "source": [
    "#W1A4\n",
    "numbers = [1, 2, 3, 4]\n",
    "for x in numbers:\n",
    "    if x % 2 == 0:\n",
    "        print(x, \"là số chẵn\")\n",
    "    else:\n",
    "        print(x, \"là số lẻ\")\n"
   ]
  },
  {
   "cell_type": "code",
   "execution_count": 4,
   "id": "c90848f0-3f0e-44e4-8cc2-20ae240d7cb1",
   "metadata": {},
   "outputs": [
    {
     "name": "stdout",
     "output_type": "stream",
     "text": [
      "Số phần tử trong danh sách là: 4\n"
     ]
    }
   ],
   "source": [
    "#W1A5\n",
    "animals = [\"cat\", \"dog\", \"cat\", \"bird\"]\n",
    "count = 0\n",
    "for a in animals:\n",
    "    count += 1\n",
    "print(\"Số phần tử trong danh sách là:\", count)\n"
   ]
  },
  {
   "cell_type": "code",
   "execution_count": 5,
   "id": "d297198b-70c3-4234-9810-2e49f8cafba2",
   "metadata": {},
   "outputs": [
    {
     "name": "stdout",
     "output_type": "stream",
     "text": [
      "=== AI Prediction System ===\n",
      "1) Sentiment analysis\n",
      "2) Weather forecast\n",
      "3) Exit\n"
     ]
    },
    {
     "name": "stdin",
     "output_type": "stream",
     "text": [
      "Please choose an option:  2\n"
     ]
    },
    {
     "name": "stdout",
     "output_type": "stream",
     "text": [
      "Bạn đã chọn: Weather forecast (Dự báo thời tiết)\n",
      "=== AI Prediction System ===\n",
      "1) Sentiment analysis\n",
      "2) Weather forecast\n",
      "3) Exit\n"
     ]
    },
    {
     "name": "stdin",
     "output_type": "stream",
     "text": [
      "Please choose an option:  \n"
     ]
    },
    {
     "name": "stdout",
     "output_type": "stream",
     "text": [
      "Lựa chọn không hợp lệ, vui lòng nhập 1, 2 hoặc 3.\n",
      "\n",
      "=== AI Prediction System ===\n",
      "1) Sentiment analysis\n",
      "2) Weather forecast\n",
      "3) Exit\n"
     ]
    },
    {
     "name": "stdin",
     "output_type": "stream",
     "text": [
      "Please choose an option:  3\n"
     ]
    },
    {
     "name": "stdout",
     "output_type": "stream",
     "text": [
      "Thoát chương trình. Tạm biệt!\n"
     ]
    }
   ],
   "source": [
    "#W1A6\n",
    "# === AI Prediction System ===\n",
    "\n",
    "while True: \n",
    "    print(\"=== AI Prediction System ===\")\n",
    "    print(\"1) Sentiment analysis\")\n",
    "    print(\"2) Weather forecast\")\n",
    "    print(\"3) Exit\")\n",
    "    choice = input(\"Please choose an option: \")\n",
    "    if choice == \"1\":\n",
    "        print(\"Bạn đã chọn: Sentiment analysis (Phân tích cảm xúc)\")\n",
    "    elif choice == \"2\":\n",
    "        print(\"Bạn đã chọn: Weather forecast (Dự báo thời tiết)\")\n",
    "    elif choice == \"3\":\n",
    "        print(\"Thoát chương trình. Tạm biệt!\")\n",
    "        break \n",
    "    else:\n",
    "        print(\"Lựa chọn không hợp lệ, vui lòng nhập 1, 2 hoặc 3.\\n\")\n"
   ]
  },
  {
   "cell_type": "code",
   "execution_count": 6,
   "id": "22e25577-d5b4-4fde-b55c-1165c20846ea",
   "metadata": {},
   "outputs": [
    {
     "name": "stdin",
     "output_type": "stream",
     "text": [
      "Nhập số:  4\n"
     ]
    },
    {
     "name": "stdout",
     "output_type": "stream",
     "text": [
      "Số chẵn\n"
     ]
    }
   ],
   "source": [
    "#W1A7\n",
    "num = int(input(\"Nhập số: \")) \n",
    "if num % 2 == 0:\n",
    "    print(\"Số chẵn\")\n",
    "else:\n",
    "    print(\"Số lẻ\")\n"
   ]
  },
  {
   "cell_type": "code",
   "execution_count": 7,
   "id": "25efab71-89ee-46ad-a61f-76f28e1679b6",
   "metadata": {},
   "outputs": [
    {
     "name": "stdout",
     "output_type": "stream",
     "text": [
      "AI đang học lần 1\n",
      "AI đang học lần 2\n",
      "AI đang học lần 3\n",
      "Huấn luyện xong!\n"
     ]
    }
   ],
   "source": [
    "#W1A8\n",
    "for i in range(3):\n",
    "    print(\"AI đang học lần\", i + 1)\n",
    "print(\"Huấn luyện xong!\") "
   ]
  },
  {
   "cell_type": "code",
   "execution_count": 8,
   "id": "389c69e3-f4d4-4b49-884b-2677e00a754e",
   "metadata": {},
   "outputs": [
    {
     "name": "stdout",
     "output_type": "stream",
     "text": [
      "Dự đoán con vật: cat\n",
      "Dự đoán con vật: dog\n",
      "Dự đoán con vật: fish\n"
     ]
    }
   ],
   "source": [
    "#W1A9\n",
    "for x in [\"cat\", \"dog\", \"fish\"]:\n",
    "    print(\"Dự đoán con vật:\", x) \n"
   ]
  },
  {
   "cell_type": "code",
   "execution_count": 9,
   "id": "94a069b1-3603-4a1e-b90f-6b6baa2b6e46",
   "metadata": {},
   "outputs": [
    {
     "name": "stdout",
     "output_type": "stream",
     "text": [
      "=== AI Prediction System ===\n",
      "1) Sentiment analysis\n",
      "2) Weather forecast\n",
      "3) Exit\n",
      "Please choose an option:\n"
     ]
    }
   ],
   "source": [
    "#W1A10\n",
    "# Simple menu\n",
    "print(\"=== AI Prediction System ===\")\n",
    "print(\"1) Sentiment analysis\")\n",
    "print(\"2) Weather forecast\")\n",
    "print(\"3) Exit\")\n",
    "print(\"Please choose an option:\")\n"
   ]
  }
 ],
 "metadata": {
  "kernelspec": {
   "display_name": "Python 3 (ipykernel)",
   "language": "python",
   "name": "python3"
  },
  "language_info": {
   "codemirror_mode": {
    "name": "ipython",
    "version": 3
   },
   "file_extension": ".py",
   "mimetype": "text/x-python",
   "name": "python",
   "nbconvert_exporter": "python",
   "pygments_lexer": "ipython3",
   "version": "3.13.7"
  }
 },
 "nbformat": 4,
 "nbformat_minor": 5
}
